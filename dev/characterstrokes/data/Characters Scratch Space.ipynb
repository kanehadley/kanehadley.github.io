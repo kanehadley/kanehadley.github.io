{
 "cells": [
  {
   "cell_type": "code",
   "execution_count": 12,
   "metadata": {
    "collapsed": false
   },
   "outputs": [
    {
     "name": "stdout",
     "output_type": "stream",
     "text": [
      "simplified_dragon_00.png\r\n",
      "simplified_dragon_01.png\r\n",
      "simplified_dragon_02.png\r\n",
      "simplified_dragon_03.png\r\n",
      "simplified_dragon_04.png\r\n",
      "traditional_dragon_00.png\r\n",
      "traditional_dragon_01.png\r\n",
      "traditional_dragon_02.png\r\n",
      "traditional_dragon_03.png\r\n",
      "traditional_dragon_04.png\r\n",
      "traditional_dragon_05.png\r\n",
      "traditional_dragon_06.png\r\n",
      "traditional_dragon_07.png\r\n",
      "traditional_dragon_08.png\r\n",
      "traditional_dragon_09.png\r\n",
      "traditional_dragon_10.png\r\n",
      "traditional_dragon_11.png\r\n",
      "traditional_dragon_12.png\r\n",
      "traditional_dragon_13.png\r\n",
      "traditional_dragon_14.png\r\n",
      "traditional_dragon_15.png\r\n"
     ]
    }
   ],
   "source": [
    "ls -1 characters/"
   ]
  },
  {
   "cell_type": "code",
   "execution_count": 305,
   "metadata": {
    "collapsed": true
   },
   "outputs": [],
   "source": [
    "images = \"\"\"simplified_dragon_00.png\n",
    "simplified_dragon_01.png\n",
    "simplified_dragon_02.png\n",
    "simplified_dragon_03.png\n",
    "simplified_dragon_04.png\n",
    "traditional_dragon_00.png\n",
    "traditional_dragon_01.png\n",
    "traditional_dragon_02.png\n",
    "traditional_dragon_03.png\n",
    "traditional_dragon_04.png\n",
    "traditional_dragon_05.png\n",
    "traditional_dragon_06.png\n",
    "traditional_dragon_07.png\n",
    "traditional_dragon_08.png\n",
    "traditional_dragon_09.png\n",
    "traditional_dragon_10.png\n",
    "traditional_dragon_11.png\n",
    "traditional_dragon_12.png\n",
    "traditional_dragon_13.png\n",
    "traditional_dragon_14.png\n",
    "traditional_dragon_15.png\"\"\".split()"
   ]
  },
  {
   "cell_type": "code",
   "execution_count": 306,
   "metadata": {
    "collapsed": false
   },
   "outputs": [
    {
     "data": {
      "text/plain": [
       "['simplified_dragon_00.png',\n",
       " 'simplified_dragon_01.png',\n",
       " 'simplified_dragon_02.png',\n",
       " 'simplified_dragon_03.png',\n",
       " 'simplified_dragon_04.png',\n",
       " 'traditional_dragon_00.png',\n",
       " 'traditional_dragon_01.png',\n",
       " 'traditional_dragon_02.png',\n",
       " 'traditional_dragon_03.png',\n",
       " 'traditional_dragon_04.png',\n",
       " 'traditional_dragon_05.png',\n",
       " 'traditional_dragon_06.png',\n",
       " 'traditional_dragon_07.png',\n",
       " 'traditional_dragon_08.png',\n",
       " 'traditional_dragon_09.png',\n",
       " 'traditional_dragon_10.png',\n",
       " 'traditional_dragon_11.png',\n",
       " 'traditional_dragon_12.png',\n",
       " 'traditional_dragon_13.png',\n",
       " 'traditional_dragon_14.png',\n",
       " 'traditional_dragon_15.png']"
      ]
     },
     "execution_count": 306,
     "metadata": {},
     "output_type": "execute_result"
    }
   ],
   "source": [
    "images"
   ]
  },
  {
   "cell_type": "code",
   "execution_count": 1,
   "metadata": {
    "collapsed": true
   },
   "outputs": [],
   "source": [
    "from PIL import Image"
   ]
  },
  {
   "cell_type": "code",
   "execution_count": 2,
   "metadata": {
    "collapsed": false
   },
   "outputs": [],
   "source": [
    "a = Image.open('characters/traditional_dragon_15.png')"
   ]
  },
  {
   "cell_type": "code",
   "execution_count": 3,
   "metadata": {
    "collapsed": true
   },
   "outputs": [],
   "source": [
    "a.show()"
   ]
  },
  {
   "cell_type": "code",
   "execution_count": 28,
   "metadata": {
    "collapsed": false
   },
   "outputs": [
    {
     "data": {
      "image/png": "[encoded data removed]",
      "text/plain": [
       "<PIL.Image.Image image mode=L size=500x500 at 0x111D1C450>"
      ]
     },
     "execution_count": 28,
     "metadata": {},
     "output_type": "execute_result"
    }
   ],
   "source": [
    "a.transpose(0)"
   ]
  },
  {
   "cell_type": "code",
   "execution_count": 29,
   "metadata": {
    "collapsed": true
   },
   "outputs": [],
   "source": [
    "b = a.rotate(37)"
   ]
  },
  {
   "cell_type": "code",
   "execution_count": 30,
   "metadata": {
    "collapsed": true
   },
   "outputs": [],
   "source": [
    "b.show()"
   ]
  },
  {
   "cell_type": "code",
   "execution_count": 32,
   "metadata": {
    "collapsed": false
   },
   "outputs": [
    {
     "name": "stdout",
     "output_type": "stream",
     "text": [
      "<PIL.PngImagePlugin.PngImageFile image mode=L size=500x500 at 0x1122C4950>\n"
     ]
    }
   ],
   "source": [
    "print a"
   ]
  },
  {
   "cell_type": "code",
   "execution_count": 329,
   "metadata": {
    "collapsed": true
   },
   "outputs": [],
   "source": [
    "import cPickle, gzip, numpy\n",
    "\n",
    "# Load the dataset\n",
    "f = gzip.open('mnist.pkl.gz', 'rb')\n",
    "train_set, valid_set, test_set = cPickle.load(f)\n",
    "f.close()"
   ]
  },
  {
   "cell_type": "code",
   "execution_count": 330,
   "metadata": {
    "collapsed": true
   },
   "outputs": [],
   "source": [
    "train_set_x, train_set_y = train_set"
   ]
  },
  {
   "cell_type": "code",
   "execution_count": 332,
   "metadata": {
    "collapsed": false
   },
   "outputs": [
    {
     "data": {
      "text/plain": [
       "(50000, 784)"
      ]
     },
     "execution_count": 332,
     "metadata": {},
     "output_type": "execute_result"
    }
   ],
   "source": [
    "train_set_x.shape"
   ]
  },
  {
   "cell_type": "code",
   "execution_count": 39,
   "metadata": {
    "collapsed": false
   },
   "outputs": [
    {
     "data": {
      "image/png": "[encoded data removed]",
      "text/plain": [
       "<PIL.Image.Image image mode=L size=701x701 at 0x111CFBAD0>"
      ]
     },
     "execution_count": 39,
     "metadata": {},
     "output_type": "execute_result"
    }
   ],
   "source": [
    "a.rotate(37, expand=True)"
   ]
  },
  {
   "cell_type": "code",
   "execution_count": 41,
   "metadata": {
    "collapsed": false
   },
   "outputs": [],
   "source": [
    "c = list(a.getdata())"
   ]
  },
  {
   "cell_type": "code",
   "execution_count": 42,
   "metadata": {
    "collapsed": false
   },
   "outputs": [
    {
     "data": {
      "text/plain": [
       "250000"
      ]
     },
     "execution_count": 42,
     "metadata": {},
     "output_type": "execute_result"
    }
   ],
   "source": [
    "len(c)"
   ]
  },
  {
   "cell_type": "code",
   "execution_count": 46,
   "metadata": {
    "collapsed": false
   },
   "outputs": [
    {
     "data": {
      "text/plain": [
       "213"
      ]
     },
     "execution_count": 46,
     "metadata": {},
     "output_type": "execute_result"
    }
   ],
   "source": [
    "len(filter(lambda x: x > 0 and x < 255, c))"
   ]
  },
  {
   "cell_type": "code",
   "execution_count": 53,
   "metadata": {
    "collapsed": false
   },
   "outputs": [],
   "source": [
    "d = Image.new('L', (1000, 1000), color=255)"
   ]
  },
  {
   "cell_type": "code",
   "execution_count": 58,
   "metadata": {
    "collapsed": false
   },
   "outputs": [
    {
     "data": {
      "text/plain": [
       "1000000"
      ]
     },
     "execution_count": 58,
     "metadata": {},
     "output_type": "execute_result"
    }
   ],
   "source": [
    "len(list(d.getdata()))"
   ]
  },
  {
   "cell_type": "code",
   "execution_count": 59,
   "metadata": {
    "collapsed": true
   },
   "outputs": [],
   "source": [
    "from PIL import ImageChops"
   ]
  },
  {
   "cell_type": "code",
   "execution_count": 63,
   "metadata": {
    "collapsed": false
   },
   "outputs": [
    {
     "ename": "ValueError",
     "evalue": "images do not match",
     "output_type": "error",
     "traceback": [
      "\u001b[0;31m---------------------------------------------------------------------------\u001b[0m",
      "\u001b[0;31mValueError\u001b[0m                                Traceback (most recent call last)",
      "\u001b[0;32m<ipython-input-63-b887f96f4591>\u001b[0m in \u001b[0;36m<module>\u001b[0;34m()\u001b[0m\n\u001b[0;32m----> 1\u001b[0;31m \u001b[0mImageChops\u001b[0m\u001b[0;34m.\u001b[0m\u001b[0mcomposite\u001b[0m\u001b[0;34m(\u001b[0m\u001b[0ma\u001b[0m\u001b[0;34m,\u001b[0m \u001b[0md\u001b[0m\u001b[0;34m,\u001b[0m \u001b[0;36m0\u001b[0m\u001b[0;34m)\u001b[0m\u001b[0;34m\u001b[0m\u001b[0m\n\u001b[0m",
      "\u001b[0;32m/Users/kanehadley/Projects/kanehadley.github.io/dev/strokestyle/data/stylethon/lib/python2.7/site-packages/PIL/ImageChops.pyc\u001b[0m in \u001b[0;36mcomposite\u001b[0;34m(image1, image2, mask)\u001b[0m\n\u001b[1;32m    264\u001b[0m     \"\"\"\n\u001b[1;32m    265\u001b[0m \u001b[0;34m\u001b[0m\u001b[0m\n\u001b[0;32m--> 266\u001b[0;31m     \u001b[0;32mreturn\u001b[0m \u001b[0mImage\u001b[0m\u001b[0;34m.\u001b[0m\u001b[0mcomposite\u001b[0m\u001b[0;34m(\u001b[0m\u001b[0mimage1\u001b[0m\u001b[0;34m,\u001b[0m \u001b[0mimage2\u001b[0m\u001b[0;34m,\u001b[0m \u001b[0mmask\u001b[0m\u001b[0;34m)\u001b[0m\u001b[0;34m\u001b[0m\u001b[0m\n\u001b[0m\u001b[1;32m    267\u001b[0m \u001b[0;34m\u001b[0m\u001b[0m\n\u001b[1;32m    268\u001b[0m \u001b[0;34m\u001b[0m\u001b[0m\n",
      "\u001b[0;32m/Users/kanehadley/Projects/kanehadley.github.io/dev/strokestyle/data/stylethon/lib/python2.7/site-packages/PIL/Image.pyc\u001b[0m in \u001b[0;36mcomposite\u001b[0;34m(image1, image2, mask)\u001b[0m\n\u001b[1;32m   2364\u001b[0m \u001b[0;34m\u001b[0m\u001b[0m\n\u001b[1;32m   2365\u001b[0m     \u001b[0mimage\u001b[0m \u001b[0;34m=\u001b[0m \u001b[0mimage2\u001b[0m\u001b[0;34m.\u001b[0m\u001b[0mcopy\u001b[0m\u001b[0;34m(\u001b[0m\u001b[0;34m)\u001b[0m\u001b[0;34m\u001b[0m\u001b[0m\n\u001b[0;32m-> 2366\u001b[0;31m     \u001b[0mimage\u001b[0m\u001b[0;34m.\u001b[0m\u001b[0mpaste\u001b[0m\u001b[0;34m(\u001b[0m\u001b[0mimage1\u001b[0m\u001b[0;34m,\u001b[0m \u001b[0mNone\u001b[0m\u001b[0;34m,\u001b[0m \u001b[0mmask\u001b[0m\u001b[0;34m)\u001b[0m\u001b[0;34m\u001b[0m\u001b[0m\n\u001b[0m\u001b[1;32m   2367\u001b[0m     \u001b[0;32mreturn\u001b[0m \u001b[0mimage\u001b[0m\u001b[0;34m\u001b[0m\u001b[0m\n\u001b[1;32m   2368\u001b[0m \u001b[0;34m\u001b[0m\u001b[0m\n",
      "\u001b[0;32m/Users/kanehadley/Projects/kanehadley.github.io/dev/strokestyle/data/stylethon/lib/python2.7/site-packages/PIL/Image.pyc\u001b[0m in \u001b[0;36mpaste\u001b[0;34m(self, im, box, mask)\u001b[0m\n\u001b[1;32m   1340\u001b[0m             \u001b[0mself\u001b[0m\u001b[0;34m.\u001b[0m\u001b[0mim\u001b[0m\u001b[0;34m.\u001b[0m\u001b[0mpaste\u001b[0m\u001b[0;34m(\u001b[0m\u001b[0mim\u001b[0m\u001b[0;34m,\u001b[0m \u001b[0mbox\u001b[0m\u001b[0;34m,\u001b[0m \u001b[0mmask\u001b[0m\u001b[0;34m.\u001b[0m\u001b[0mim\u001b[0m\u001b[0;34m)\u001b[0m\u001b[0;34m\u001b[0m\u001b[0m\n\u001b[1;32m   1341\u001b[0m         \u001b[0;32melse\u001b[0m\u001b[0;34m:\u001b[0m\u001b[0;34m\u001b[0m\u001b[0m\n\u001b[0;32m-> 1342\u001b[0;31m             \u001b[0mself\u001b[0m\u001b[0;34m.\u001b[0m\u001b[0mim\u001b[0m\u001b[0;34m.\u001b[0m\u001b[0mpaste\u001b[0m\u001b[0;34m(\u001b[0m\u001b[0mim\u001b[0m\u001b[0;34m,\u001b[0m \u001b[0mbox\u001b[0m\u001b[0;34m)\u001b[0m\u001b[0;34m\u001b[0m\u001b[0m\n\u001b[0m\u001b[1;32m   1343\u001b[0m \u001b[0;34m\u001b[0m\u001b[0m\n\u001b[1;32m   1344\u001b[0m     \u001b[0;32mdef\u001b[0m \u001b[0mpoint\u001b[0m\u001b[0;34m(\u001b[0m\u001b[0mself\u001b[0m\u001b[0;34m,\u001b[0m \u001b[0mlut\u001b[0m\u001b[0;34m,\u001b[0m \u001b[0mmode\u001b[0m\u001b[0;34m=\u001b[0m\u001b[0mNone\u001b[0m\u001b[0;34m)\u001b[0m\u001b[0;34m:\u001b[0m\u001b[0;34m\u001b[0m\u001b[0m\n",
      "\u001b[0;31mValueError\u001b[0m: images do not match"
     ]
    }
   ],
   "source": [
    "ImageChops.composite(a, d, 0)"
   ]
  },
  {
   "cell_type": "code",
   "execution_count": 66,
   "metadata": {
    "collapsed": false
   },
   "outputs": [
    {
     "data": {
      "image/png": "[encoded data removed]",
      "text/plain": [
       "<PIL.Image.Image image mode=L size=500x500 at 0x112F2E790>"
      ]
     },
     "execution_count": 66,
     "metadata": {},
     "output_type": "execute_result"
    }
   ],
   "source": [
    "ImageChops.offset(a, 100)"
   ]
  },
  {
   "cell_type": "code",
   "execution_count": 8,
   "metadata": {
    "collapsed": true
   },
   "outputs": [],
   "source": [
    "from PIL import ImageOps"
   ]
  },
  {
   "cell_type": "code",
   "execution_count": 43,
   "metadata": {
    "collapsed": false
   },
   "outputs": [
    {
     "data": {
      "text/plain": [
       "4000000"
      ]
     },
     "execution_count": 43,
     "metadata": {},
     "output_type": "execute_result"
    }
   ],
   "source": [
    "#ImageOps.crop(ImageOps.expand(a, 500, 255), 250).size\n",
    "#b = ImageOps.crop(ImageOps.expand(a, 750, 255).rotate(37), 250)\n",
    "\n",
    "b = ImageOps.expand(ImageOps.crop(ImageOps.expand(a, 750, 255).rotate(45), 500), 500, 255)\n"
   ]
  },
  {
   "cell_type": "code",
   "execution_count": 44,
   "metadata": {
    "collapsed": false
   },
   "outputs": [
    {
     "data": {
      "text/plain": [
       "(2000, 2000)"
      ]
     },
     "execution_count": 44,
     "metadata": {},
     "output_type": "execute_result"
    }
   ],
   "source": [
    "#len(list(b.getdata()))\n",
    "b.size"
   ]
  },
  {
   "cell_type": "code",
   "execution_count": 46,
   "metadata": {
    "collapsed": false
   },
   "outputs": [
    {
     "data": {
      "text/plain": [
       "4000000"
      ]
     },
     "execution_count": 46,
     "metadata": {},
     "output_type": "execute_result"
    }
   ],
   "source": [
    "import numpy as np\n",
    "\n",
    "c = np.matrix(list(b.getdata()))"
   ]
  },
  {
   "cell_type": "code",
   "execution_count": 67,
   "metadata": {
    "collapsed": false
   },
   "outputs": [],
   "source": [
    "d = c.reshape((2000, 2000))"
   ]
  },
  {
   "cell_type": "code",
   "execution_count": 71,
   "metadata": {
    "collapsed": false
   },
   "outputs": [
    {
     "data": {
      "text/plain": [
       "(2000, 2000)"
      ]
     },
     "execution_count": 71,
     "metadata": {},
     "output_type": "execute_result"
    }
   ],
   "source": [
    "d.shape"
   ]
  },
  {
   "cell_type": "code",
   "execution_count": 68,
   "metadata": {
    "collapsed": false
   },
   "outputs": [],
   "source": [
    "e = (-d) % 255\n",
    "\n"
   ]
  },
  {
   "cell_type": "code",
   "execution_count": 85,
   "metadata": {
    "collapsed": false
   },
   "outputs": [
    {
     "data": {
      "text/plain": [
       "array([833, 834, 835, 836, 837, 838, 839, 840, 841, 842, 843, 844, 845,\n",
       "       846, 847, 848, 849])"
      ]
     },
     "execution_count": 85,
     "metadata": {},
     "output_type": "execute_result"
    }
   ],
   "source": [
    "np.nonzero(np.sum(e, axis=0))[1]"
   ]
  },
  {
   "cell_type": "code",
   "execution_count": 89,
   "metadata": {
    "collapsed": false
   },
   "outputs": [
    {
     "data": {
      "text/plain": [
       "212"
      ]
     },
     "execution_count": 89,
     "metadata": {},
     "output_type": "execute_result"
    }
   ],
   "source": [
    "len(np.nonzero(e)[1])"
   ]
  },
  {
   "cell_type": "code",
   "execution_count": 22,
   "metadata": {
    "collapsed": false
   },
   "outputs": [
    {
     "data": {
      "image/png": "[encoded data removed]",
      "text/plain": [
       "<PIL.Image.Image image mode=L size=28x28 at 0x10DB70650>"
      ]
     },
     "execution_count": 22,
     "metadata": {},
     "output_type": "execute_result"
    }
   ],
   "source": [
    "b.resize((28,28))"
   ]
  },
  {
   "cell_type": "code",
   "execution_count": 99,
   "metadata": {
    "collapsed": false
   },
   "outputs": [
    {
     "data": {
      "text/plain": [
       "array([122, 122, 122, 122, 123, 123, 123, 123, 123, 123, 123, 123, 123,\n",
       "       124, 124, 124, 124, 124, 124, 124, 124, 124, 124, 124, 124, 125,\n",
       "       125, 125, 125, 125, 125, 125, 125, 125, 125, 125, 125, 125, 125,\n",
       "       125, 125, 126, 126, 126, 126, 126, 126, 126, 126, 126, 126, 126,\n",
       "       126, 126, 126, 126, 126, 127, 127, 127, 127, 127, 127, 127, 127,\n",
       "       127, 127, 127, 127, 127, 127, 127, 127, 127, 127, 128, 128, 128,\n",
       "       128, 128, 128, 128, 128, 128, 128, 128, 128, 128, 128, 128, 128,\n",
       "       128, 128, 129, 129, 129, 129, 129, 129, 129, 129, 129, 129, 129,\n",
       "       129, 129, 129, 129, 129, 129, 129, 130, 130, 130, 130, 130, 130,\n",
       "       130, 130, 130, 130, 130, 130, 130, 130, 130, 130, 130, 130, 131,\n",
       "       131, 131, 131, 131, 131, 131, 131, 131, 131, 131, 131, 131, 131,\n",
       "       131, 131, 132, 132, 132, 132, 132, 132, 132, 132, 132, 132, 132,\n",
       "       132, 132, 132, 132, 132, 133, 133, 133, 133, 133, 133, 133, 133,\n",
       "       133, 133, 133, 133, 133, 133, 134, 134, 134, 134, 134, 134, 134,\n",
       "       134, 134, 134, 134, 134, 134, 134, 135, 135, 135, 135, 135, 135,\n",
       "       135, 135, 135, 135, 135, 135, 136, 136, 136, 136, 136, 136, 136,\n",
       "       136, 137, 137, 137, 137])"
      ]
     },
     "execution_count": 99,
     "metadata": {},
     "output_type": "execute_result"
    }
   ],
   "source": [
    "np.nonzero((-(np.matrix(a.getdata()).reshape((500,500)))) % 255)[0]\n",
    "\n",
    "#z = np.matrix(a.getdata()).resize((500,500))"
   ]
  },
  {
   "cell_type": "code",
   "execution_count": 102,
   "metadata": {
    "collapsed": false
   },
   "outputs": [
    {
     "data": {
      "text/plain": [
       "646.0"
      ]
     },
     "execution_count": 102,
     "metadata": {},
     "output_type": "execute_result"
    }
   ],
   "source": [
    "import math\n",
    "\n",
    "(2000 - math.ceil(500 * math.sqrt(2))) / 2"
   ]
  },
  {
   "cell_type": "code",
   "execution_count": 90,
   "metadata": {
    "collapsed": false
   },
   "outputs": [],
   "source": [
    "e = ImageOps.crop(ImageOps.expand(a, 250, 255).rotate(45), 146)"
   ]
  },
  {
   "cell_type": "code",
   "execution_count": 83,
   "metadata": {
    "collapsed": false
   },
   "outputs": [
    {
     "data": {
      "text/plain": [
       "146.0"
      ]
     },
     "execution_count": 83,
     "metadata": {},
     "output_type": "execute_result"
    }
   ],
   "source": [
    "import math\n",
    "math.floor((1000 - 500*math.sqrt(2)) / 2)"
   ]
  },
  {
   "cell_type": "code",
   "execution_count": 106,
   "metadata": {
    "collapsed": false
   },
   "outputs": [],
   "source": [
    "#a.transform((500, 500), Image.AFFINE, )\n",
    "a.transform?"
   ]
  },
  {
   "cell_type": "code",
   "execution_count": 1,
   "metadata": {
    "collapsed": false
   },
   "outputs": [
    {
     "data": {
      "image/png": "[encoded data removed]",
      "text/plain": [
       "<PIL.Image.Image image mode=L size=28x28 at 0x10A9DDD90>"
      ]
     },
     "execution_count": 1,
     "metadata": {},
     "output_type": "execute_result"
    }
   ],
   "source": [
    "import math\n",
    "\n",
    "from PIL import Image\n",
    "from PIL import ImageOps\n",
    "\n",
    "import numpy as np\n",
    "\n",
    "def calculate_edges(img, size):\n",
    "    row_coord, col_coord = np.nonzero(-(np.matrix(img.getdata()).reshape(size)) + 255)\n",
    "    # Left, Top, Right, Bottom\n",
    "    return np.min(col_coord) - 1, np.min(row_coord) - 1, np.max(col_coord) + 1, np.max(row_coord) + 1\n",
    "\n",
    "def calculate_normalizing_dimensions(image, theta):\n",
    "    rotated_image = ImageOps.crop(ImageOps.expand(image, 750, 255).rotate(theta), 500)\n",
    "    sides = calculate_edges(rotated_image, (1000, 1000))\n",
    "    return sides\n",
    "\n",
    "def generate_sample(image, theta, normalizing_dimensions):\n",
    "    \"\"\"Rotates an image, downsample it to a 28x28 sample, and then reatures the 28*28 feature vector.\n",
    "    \n",
    "    :param - img\n",
    "        The image to be transformed and downsampled.\n",
    "        \n",
    "    :param - theta\n",
    "        The angle to transform the image before downsampling.\n",
    "    \"\"\"\n",
    "    rotated_image = ImageOps.crop(ImageOps.expand(image, 750, 255).rotate(theta), 500)\n",
    "    \n",
    "    #sides = calculate_edges(rotated_image, (1000, 1000))\n",
    "    \n",
    "    # Image is 1000 x 1000\n",
    "    # normalizing_dimensions is width x height\n",
    "    #width_difference = 1000 - normalizing_dimensions[0]\n",
    "    #height_difference = 1000 - normalizing_dimensions[1]\n",
    "    #expansion = max(width_difference, height_difference) / 2\n",
    "    #compression = min(width_difference, height_difference)\n",
    "    #expansion_image = ImageOps.expand(rotated_image, expansion, 255)\n",
    "    \n",
    "    #if width_difference < height_difference:\n",
    "    #    side_left = (height_difference - width_difference) / 2\n",
    "    #    side_top = 0\n",
    "    #    side_right = expansion_image.size[0] - ((height_difference - width_difference) / 2)\n",
    "    #    side_bottom = expansion_image.size[1]\n",
    "    #else:\n",
    "    #    side_left = 0\n",
    "    #    side_top = (width_difference - height_difference) / 2\n",
    "    #    side_right = expansion_image.size[0]\n",
    "    #    side_bottom = expansion_image.size[1] - ((width_difference - height_difference) / 2)\n",
    "    \n",
    "    #sides = (side_left, side_top, side_right, side_bottom)\n",
    "    \n",
    "    #cropped_image = rotated_image.crop(sides)\n",
    "\n",
    "    cropped_image = rotated_image.crop(normalizing_dimensions)\n",
    "    \n",
    "    # Makes it a square\n",
    "    cropped_max_size = max(cropped_image.size)\n",
    "    \n",
    "    cropped_difference_half = int(((1.0 * cropped_max_size) - min(cropped_image.size)) / 2)\n",
    "    \n",
    "    expanded_cropped_image = ImageOps.expand(cropped_image, cropped_difference_half, 255)\n",
    "    \n",
    "    expanded_cropped_image_size = expanded_cropped_image.size\n",
    "    \n",
    "    # Width is greater\n",
    "    if cropped_image.size[0] > cropped_image.size[1]:\n",
    "        cropped_expanded_cropped_image = expanded_cropped_image.crop((cropped_difference_half,\n",
    "                                                                     0,\n",
    "                                                                     expanded_cropped_image_size[0] - cropped_difference_half,\n",
    "                                                                     expanded_cropped_image_size[1]))\n",
    "    # Height is greater\n",
    "    else:\n",
    "        cropped_expanded_cropped_image = expanded_cropped_image.crop((0,\n",
    "                                                                     cropped_difference_half,\n",
    "                                                                     expanded_cropped_image_size[0],\n",
    "                                                                     expanded_cropped_image_size[1] - cropped_difference_half))\n",
    "    \n",
    "    \n",
    "    #return cropped_expanded_cropped_image\n",
    "    return (-np.array(cropped_expanded_cropped_image.resize((28,28)).getdata()) + 255) * 1.0 / 255\n",
    "    #img_data = np.matrix(list(rotated_img.getdata()))\n",
    "    \n",
    "    \n",
    "    #d = c.reshape((2000, 2000))\n",
    "    #e = (-d) % 255\n",
    "    #e = ImageOps.crop(ImageOps.expand(a, 250, 255).rotate(45), 146)\n",
    "    #math.floor((1000 - 500*math.sqrt(2)) / 2)\n",
    "\n",
    "    #scaled_img = rotated_img.resize((128,128))\n",
    "    \n",
    "    #return scaled_img\n",
    "\n",
    "example = Image.open('characters/traditional_dragon_15.png')\n",
    "example2 = Image.open('characters/traditional_dragon_03.png')\n",
    "\n",
    "z = generate_sample(example2, 90, calculate_normalizing_dimensions(example, 90))\n",
    "#Image.fromarray((-(z.reshape(28,28) * 255) + 255).astype('uint8'), 'L')\n",
    "#z.resize((28,28))\n",
    "#z.shape\n",
    "#z\n",
    "#calculate_prescale_dimensions(example, 90)\n",
    "#y = np.array(z.getdata())\n",
    "#y.size\n",
    "#z.size\n",
    "#Image.fromarray(y.reshape(445,445), 'I')\n",
    "#Image.frombuffer('I', (445, 445), y, 'raw', 'I', 0, 255)\n",
    "#Image.fromarray(np.array(z.getdata()).astype('uint8').reshape((445,445)))\n",
    "\n",
    "def view_feature_array(array, size):\n",
    "    return Image.fromarray((-(array.reshape(size) * 255) + 255).astype('uint8'), 'L')\n",
    "\n",
    "#view_feature_array(z, (28, 28))\n",
    "view_feature_array(np.array([generate_sample(example, 90, calculate_normalizing_dimensions(example, 90)),\n",
    "         generate_sample(example2, 90, calculate_normalizing_dimensions(example, 90))])[1],(28,28))"
   ]
  },
  {
   "cell_type": "code",
   "execution_count": 302,
   "metadata": {
    "collapsed": false
   },
   "outputs": [],
   "source": [
    "#np.equal(generate_sample(example, 90, calculate_normalizing_dimensions(example, 90)),\n",
    "#         generate_sample(example2, 90, calculate_normalizing_dimensions(example, 90)))\n",
    "#view_feature_array(generate_sample(example2, 90, calculate_normalizing_dimensions(example, 90)), (28,28))\n",
    "\n",
    "z0 = generate_sample(example, 90, calculate_normalizing_dimensions(example, 90))\n",
    "z1 = generate_sample(example2, 90, calculate_normalizing_dimensions(example, 90))\n",
    "\n",
    "z3 = np.vstack([z0, z1])"
   ]
  },
  {
   "cell_type": "code",
   "execution_count": 2,
   "metadata": {
    "collapsed": false
   },
   "outputs": [],
   "source": [
    "#view_feature_array(z3[1], (28,28))\n",
    "\n",
    "name_class_list = [\n",
    "    ('traditional_dragon_00.png', 0),\n",
    "    ('traditional_dragon_01.png', 1),\n",
    "    ('traditional_dragon_02.png', 2),\n",
    "    ('traditional_dragon_03.png', 3),\n",
    "    ('traditional_dragon_04.png', 4),\n",
    "    ('traditional_dragon_05.png', 5),\n",
    "    ('traditional_dragon_06.png', 6),\n",
    "    ('traditional_dragon_07.png', 7),\n",
    "    ('traditional_dragon_08.png', 8),\n",
    "    ('traditional_dragon_09.png', 9),\n",
    "    ('traditional_dragon_10.png', 10),\n",
    "    ('traditional_dragon_11.png', 11),\n",
    "    ('traditional_dragon_12.png', 12),\n",
    "    ('traditional_dragon_13.png', 13),\n",
    "    ('traditional_dragon_14.png', 14),\n",
    "    ('traditional_dragon_15.png', 15)]\n",
    "#    ('simplified_dragon_00.png', 16),\n",
    "#    ('simplified_dragon_01.png', 17),\n",
    "#    ('simplified_dragon_02.png', 18),\n",
    "#    ('simplified_dragon_03.png', 19),\n",
    "#    ('simplified_dragon_04.png', 20)]"
   ]
  },
  {
   "cell_type": "code",
   "execution_count": 3,
   "metadata": {
    "collapsed": false
   },
   "outputs": [],
   "source": [
    "image_class_list = map(lambda x: (Image.open('characters/' + x[0]), x[1]), name_class_list)"
   ]
  },
  {
   "cell_type": "code",
   "execution_count": 4,
   "metadata": {
    "collapsed": true
   },
   "outputs": [],
   "source": [
    "angle = 0\n",
    "\n",
    "attempt = map(lambda _: generate_sample(image_class_list[0][0],\n",
    "                              angle,\n",
    "                              calculate_normalizing_dimensions(image_class_list[15][0], angle)) , range(10))"
   ]
  },
  {
   "cell_type": "code",
   "execution_count": 5,
   "metadata": {
    "collapsed": false
   },
   "outputs": [
    {
     "data": {
      "text/plain": [
       "(10, 784)"
      ]
     },
     "execution_count": 5,
     "metadata": {},
     "output_type": "execute_result"
    }
   ],
   "source": [
    "np.vstack(attempt).shape"
   ]
  },
  {
   "cell_type": "code",
   "execution_count": 30,
   "metadata": {
    "collapsed": false
   },
   "outputs": [
    {
     "name": "stdout",
     "output_type": "stream",
     "text": [
      "Generating training data\n",
      "Generating images for image 1  out of 16\n",
      "Generated 10 samples out of 10 .\n",
      "Generating images for image 2  out of 16\n",
      "Generated 10 samples out of 10 .\n",
      "Generating images for image 3  out of 16\n",
      "Generated 10 samples out of 10 .\n",
      "Generating images for image 4  out of 16\n",
      "Generated 10 samples out of 10 .\n",
      "Generating images for image 5  out of 16\n",
      "Generated 10 samples out of 10 .\n",
      "Generating images for image 6  out of 16\n",
      "Generated 10 samples out of 10 .\n",
      "Generating images for image 7  out of 16\n",
      "Generated 10 samples out of 10 .\n",
      "Generating images for image 8  out of 16\n",
      "Generated 10 samples out of 10 .\n",
      "Generating images for image 9  out of 16\n",
      "Generated 10 samples out of 10 .\n",
      "Generating images for image 10  out of 16\n",
      "Generated 10 samples out of 10 .\n",
      "Generating images for image 11  out of 16\n",
      "Generated 10 samples out of 10 .\n",
      "Generating images for image 12  out of 16\n",
      "Generated 10 samples out of 10 .\n",
      "Generating images for image 13  out of 16\n",
      "Generated 10 samples out of 10 .\n",
      "Generating images for image 14  out of 16\n",
      "Generated 10 samples out of 10 .\n",
      "Generating images for image 15  out of 16\n",
      "Generated 10 samples out of 10 .\n",
      "Generating images for image 16  out of 16\n",
      "Generated 10 samples out of 10 .\n",
      "Generating testing data\n",
      "Generating images for image 1  out of 16\n",
      "Generating images for image 2  out of 16\n",
      "Generating images for image 3  out of 16\n",
      "Generating images for image 4  out of 16\n",
      "Generating images for image 5  out of 16\n",
      "Generating images for image 6  out of 16\n",
      "Generating images for image 7  out of 16\n",
      "Generating images for image 8  out of 16\n",
      "Generating images for image 9  out of 16\n",
      "Generating images for image 10  out of 16\n",
      "Generating images for image 11  out of 16\n",
      "Generating images for image 12  out of 16\n",
      "Generating images for image 13  out of 16\n",
      "Generating images for image 14  out of 16\n",
      "Generating images for image 15  out of 16\n",
      "Generating images for image 16  out of 16\n"
     ]
    }
   ],
   "source": [
    "def generate_data_sets(image_class_pairs, test_set_size):\n",
    "    train_set_size = 10 * test_set_size\n",
    "    sub_image_pairs = image_class_pairs[:-1]\n",
    "    main_image_pair = image_class_pairs[-1]\n",
    "    \n",
    "    mu = 0\n",
    "    sigma = 0.1\n",
    "    \n",
    "    \n",
    "    # Creating training data\n",
    "    print 'Generating training data'\n",
    "    aggregated_generated_image_list = []\n",
    "    aggregated_generated_class_list = []\n",
    "    \n",
    "    for pair_index, pair in enumerate(image_class_pairs):\n",
    "        print 'Generating images for image', (pair_index + 1), ' out of', len(image_class_pairs)\n",
    "        \n",
    "        sampled_rotations = np.random.normal(mu, sigma, train_set_size) * 360\n",
    "        generated_image_list = []\n",
    "        generated_class_list = []\n",
    "        \n",
    "        for index, theta in enumerate(sampled_rotations):\n",
    "            normalizing_size = calculate_normalizing_dimensions(main_image_pair[0], theta)\n",
    "            sample = generate_sample(pair[0],\n",
    "                                     theta,\n",
    "                                     normalizing_size)\n",
    "            generated_image_list.append(sample)\n",
    "            generated_class_list.append(pair[1])\n",
    "            if 0 == (index + 1) % 10:\n",
    "                print 'Generated', (index + 1), 'samples out of', train_set_size, '.'\n",
    "    \n",
    "        combined_generated_image_array = np.vstack(generated_image_list)\n",
    "        aggregated_generated_image_list.append(combined_generated_image_array)\n",
    "        \n",
    "        combined_generated_class_array = np.array(generated_class_list)\n",
    "        aggregated_generated_class_list.append(combined_generated_class_array)\n",
    "        \n",
    "    aggregated_generated_image_array = np.vstack(aggregated_generated_image_list)\n",
    "    aggregated_generated_class_array = np.hstack(aggregated_generated_class_list)\n",
    "    \n",
    "    train_x = aggregated_generated_image_array\n",
    "    train_y = aggregated_generated_class_array\n",
    "    \n",
    "    \n",
    "    # Creating testing data\n",
    "    print 'Generating testing data'\n",
    "    aggregated_generated_image_list = []\n",
    "    aggregated_generated_class_list = []\n",
    "    \n",
    "    for pair_index, pair in enumerate(image_class_pairs):\n",
    "        print 'Generating images for image', (pair_index + 1), ' out of', len(image_class_pairs)\n",
    "        \n",
    "        sampled_rotations = np.random.normal(mu, sigma, test_set_size) * 360\n",
    "        generated_image_list = []\n",
    "        generated_class_list = []\n",
    "        \n",
    "        for index, theta in enumerate(sampled_rotations):\n",
    "            normalizing_size = calculate_normalizing_dimensions(main_image_pair[0], theta)\n",
    "            sample = generate_sample(pair[0],\n",
    "                                     theta,\n",
    "                                     normalizing_size)\n",
    "            generated_image_list.append(sample)\n",
    "            generated_class_list.append(pair[1])\n",
    "            if 0 == (index + 1) % 10:\n",
    "                print 'Generated', (index + 1), 'samples out of', train_set_size, '.'\n",
    "    \n",
    "        combined_generated_image_array = np.vstack(generated_image_list)\n",
    "        aggregated_generated_image_list.append(combined_generated_image_array)\n",
    "        \n",
    "        combined_generated_class_array = np.array(generated_class_list)\n",
    "        aggregated_generated_class_list.append(combined_generated_class_array)\n",
    "        \n",
    "    aggregated_generated_image_array = np.vstack(aggregated_generated_image_list)\n",
    "    aggregated_generated_class_array = np.hstack(aggregated_generated_class_list)\n",
    "    \n",
    "    test_x = aggregated_generated_image_array\n",
    "    test_y = aggregated_generated_class_array\n",
    "    \n",
    "    return train_x, train_y, test_x, test_y\n",
    "\n",
    "tr_x, tr_y, te_x, te_y = generate_data_sets(image_class_list, 1)\n",
    "    \n",
    "    \n",
    "    \n",
    "    \n",
    "    "
   ]
  },
  {
   "cell_type": "code",
   "execution_count": 43,
   "metadata": {
    "collapsed": false
   },
   "outputs": [
    {
     "data": {
      "image/png": "[encoded data removed]",
      "text/plain": [
       "<PIL.Image.Image image mode=L size=28x28 at 0x10C465590>"
      ]
     },
     "execution_count": 43,
     "metadata": {},
     "output_type": "execute_result"
    }
   ],
   "source": [
    "view_feature_array(tr_x[100], (28,28))"
   ]
  },
  {
   "cell_type": "code",
   "execution_count": 29,
   "metadata": {
    "collapsed": false
   },
   "outputs": [
    {
     "data": {
      "text/plain": [
       "array([1, 2, 3, 4])"
      ]
     },
     "execution_count": 29,
     "metadata": {},
     "output_type": "execute_result"
    }
   ],
   "source": [
    "#np.vstack([np.array([[1, 2], [3,4]]), np.array([[5,6], [7,8]])])\n",
    "\n",
    "np.hstack([np.array([1,2]), np.array([3,4])])\n",
    "\n",
    "#a = [1,2,3,4]\n",
    "#a[:-1]"
   ]
  },
  {
   "cell_type": "code",
   "execution_count": 11,
   "metadata": {
    "collapsed": false
   },
   "outputs": [
    {
     "name": "stdout",
     "output_type": "stream",
     "text": [
      "Generated 10 samples.\n",
      "Generated 20 samples.\n",
      "Generated 30 samples.\n",
      "Generated 40 samples.\n",
      "Generated 50 samples.\n",
      "Generated 60 samples.\n",
      "Generated 70 samples.\n",
      "Generated 80 samples.\n",
      "Generated 90 samples.\n",
      "Generated 100 samples.\n"
     ]
    }
   ],
   "source": [
    "mu = 0\n",
    "sigma = 0.1\n",
    "sampled_rotations = np.random.normal(mu, sigma, 100) * 360\n",
    "\n",
    "generated_image_list = []\n",
    "\n",
    "for index, theta in enumerate(sampled_rotations):\n",
    "    normalizing_size = calculate_normalizing_dimensions(image_class_list[15][0], theta)\n",
    "    sample = generate_sample(image_class_list[0][0],\n",
    "                            theta,\n",
    "                            normalizing_size)\n",
    "    generated_image_list.append(sample)\n",
    "    \n",
    "    if 0 == (index + 1) % 10:\n",
    "        print 'Generated', (index + 1), 'samples.'\n",
    "\n",
    "#attempt1 = map(lambda theta: generate_sample(image_class_list[0][0],\n",
    "#                                  theta,\n",
    "#                                  calculate_normalizing_dimensions(image_class_list[15][0], theta)),\n",
    "#    sampled_rotations)\n",
    "\n"
   ]
  },
  {
   "cell_type": "code",
   "execution_count": 12,
   "metadata": {
    "collapsed": true
   },
   "outputs": [],
   "source": [
    "aggregated_image_list = np.vstack(generated_image_list)"
   ]
  },
  {
   "cell_type": "code",
   "execution_count": 17,
   "metadata": {
    "collapsed": false
   },
   "outputs": [
    {
     "data": {
      "image/png": "[encoded data removed]",
      "text/plain": [
       "<PIL.Image.Image image mode=L size=28x28 at 0x10C54EC10>"
      ]
     },
     "execution_count": 17,
     "metadata": {},
     "output_type": "execute_result"
    }
   ],
   "source": [
    "view_feature_array(aggregated_image_list[5], (28,28))"
   ]
  },
  {
   "cell_type": "code",
   "execution_count": 18,
   "metadata": {
    "collapsed": false
   },
   "outputs": [
    {
     "data": {
      "text/plain": [
       "array([ -59.22187643,   29.7439983 ,   30.91561284,   -1.2576609 ,\n",
       "        -35.46781811,    1.94151613, -117.85445931,   24.14234708,\n",
       "          2.6281693 ,   55.22949735,  -11.18407572,   -1.32098354,\n",
       "         72.76971078,   10.04924061,  -24.40379958,    6.82358705,\n",
       "         35.56004262,   25.12020057,   11.51597812,  -28.8196893 ,\n",
       "         -9.06551348,   12.18008161,   10.19226259,   50.85993297,\n",
       "          2.89232912,    1.78605217,  129.61675142,   15.31926092,\n",
       "         -7.12919269,    5.79126703,   -7.41679781,  -25.16615134,\n",
       "        -60.82445887,   34.19169765,   23.59838187,    0.27177229,\n",
       "         20.2131496 ,  -51.11018707,    2.64547509,    9.49329138,\n",
       "         52.14060003,  -32.01930156,   -3.8752364 ,  -15.57685476,\n",
       "        -54.13002297,   36.08920296,  -11.78499622,   18.05383015,\n",
       "        -29.67183717,  -26.11674675,   18.14294606,   20.33936803,\n",
       "        -19.49311428,   11.47047079,   16.39213668,   83.27516359,\n",
       "         49.20700925,   10.8307562 ,   86.46382955,  -23.40139723,\n",
       "         39.54395218,  -15.60456365,   -1.40668862,   21.7770899 ,\n",
       "         -6.97436685,   34.9776049 ,  -80.23900317,    5.70744276,\n",
       "         24.40780921,   34.21760732,   -8.22636191,   -8.66184809,\n",
       "        -44.71267127,  -20.74230041,  -11.84560684,  -10.74708442,\n",
       "         36.24664993,  -16.24279211,  -56.9197184 ,   53.28707434,\n",
       "         14.91077442,    7.57848306,    9.61921385,   23.57861784,\n",
       "         44.72563779,   -8.08392553,  -55.26860165,  -76.45529108,\n",
       "         27.32211122,   24.29584967,  -49.00493739,   36.97334526,\n",
       "         15.96337128,   -2.4608406 ,   -1.17182491,  -32.75404891,\n",
       "         31.06357435,   69.07428611,  -31.80320987,   36.73501235])"
      ]
     },
     "execution_count": 18,
     "metadata": {},
     "output_type": "execute_result"
    }
   ],
   "source": [
    "sampled_rotations"
   ]
  },
  {
   "cell_type": "code",
   "execution_count": 5,
   "metadata": {
    "collapsed": false
   },
   "outputs": [
    {
     "data": {
      "image/png": "[encoded data removed]",
      "text/plain": [
       "<matplotlib.figure.Figure at 0x10c1d6110>"
      ]
     },
     "metadata": {},
     "output_type": "display_data"
    }
   ],
   "source": [
    "import numpy as np\n",
    "\n",
    "mu = 0\n",
    "sigma = 0.1\n",
    "\n",
    "s = np.random.normal(mu, sigma, 1000)\n",
    "\n",
    "%matplotlib inline\n",
    "import matplotlib.pyplot as plt\n",
    "\n",
    "count, bins, ignored = plt.hist(s, 30, normed=True)\n",
    "plt.plot(bins, 1/(sigma * np.sqrt(2 * np.pi)) *\n",
    "               np.exp( - (bins - mu)**2 / (2 * sigma**2) ),\n",
    "         linewidth=2, color='r')\n",
    "plt.show()"
   ]
  },
  {
   "cell_type": "code",
   "execution_count": 326,
   "metadata": {
    "collapsed": false
   },
   "outputs": [
    {
     "data": {
      "image/png": "[encoded data removed]",
      "text/plain": [
       "<PIL.PngImagePlugin.PngImageFile image mode=L size=500x500 at 0x12021E490>"
      ]
     },
     "execution_count": 326,
     "metadata": {},
     "output_type": "execute_result"
    }
   ],
   "source": [
    "image_class_list[5][0]"
   ]
  },
  {
   "cell_type": "code",
   "execution_count": null,
   "metadata": {
    "collapsed": true
   },
   "outputs": [],
   "source": [
    "#### row_coord, col_coord = np.nonzero(-(np.matrix(ImageOps.crop(ImageOps.expand(example, 750, 255).rotate(45), 500).getdata()).reshape((1000,1000))) + 255)"
   ]
  },
  {
   "cell_type": "code",
   "execution_count": null,
   "metadata": {
    "collapsed": true
   },
   "outputs": [],
   "source": [
    "# row_coord, col_coord = np.nonzero(-(np.matrix(ImageOps.crop(ImageOps.expand(example, 750, 255).rotate(45), 500).getdata()).reshape((1000,1000))) + 255)"
   ]
  },
  {
   "cell_type": "code",
   "execution_count": 200,
   "metadata": {
    "collapsed": false
   },
   "outputs": [
    {
     "data": {
      "text/plain": [
       "(257, 239, 801, 765)"
      ]
     },
     "execution_count": 200,
     "metadata": {},
     "output_type": "execute_result"
    }
   ],
   "source": [
    "# Left, Top, Right, Bottom\n",
    "np.min(col_coord), np.min(row_coord), np.max(col_coord), np.max(row_coord),"
   ]
  },
  {
   "cell_type": "code",
   "execution_count": 202,
   "metadata": {
    "collapsed": false
   },
   "outputs": [
    {
     "data": {
      "image/png": "[encoded data removed]",
      "text/plain": [
       "<PIL.Image._ImageCrop image mode=L size=546x528 at 0x10D65B490>"
      ]
     },
     "execution_count": 202,
     "metadata": {},
     "output_type": "execute_result"
    }
   ],
   "source": [
    "ImageOps.crop(ImageOps.expand(example, 750, 255).rotate(45), 500).crop((257 - 1,239 - 1,801 + 1,765 + 1))#.crop((100, 100, 100, 100)) #.crop((333, 479, 349, 496))"
   ]
  },
  {
   "cell_type": "code",
   "execution_count": 195,
   "metadata": {
    "collapsed": false
   },
   "outputs": [],
   "source": [
    "pixel_places = np.nonzero((-(np.matrix(ImageOps.crop(ImageOps.expand(example, 750, 255).rotate(45), 500).getdata()).reshape((1000,1000)))) + 255)"
   ]
  },
  {
   "cell_type": "code",
   "execution_count": 177,
   "metadata": {
    "collapsed": false
   },
   "outputs": [
    {
     "data": {
      "image/png": "[encoded data removed]",
      "text/plain": [
       "<PIL.Image._ImageCrop image mode=L size=1000x1000 at 0x10FC16490>"
      ]
     },
     "execution_count": 177,
     "metadata": {},
     "output_type": "execute_result"
    }
   ],
   "source": [
    "ImageOps.crop(ImageOps.expand(example, 750, 255).rotate(45), 500)"
   ]
  },
  {
   "cell_type": "code",
   "execution_count": 196,
   "metadata": {
    "collapsed": false
   },
   "outputs": [
    {
     "data": {
      "image/png": "[encoded data removed]",
      "text/plain": [
       "<PIL.Image.Image image mode=L size=1000x1000 at 0x10FC16A10>"
      ]
     },
     "execution_count": 196,
     "metadata": {},
     "output_type": "execute_result"
    }
   ],
   "source": [
    "#Image.new('L', (1000,1000))\n",
    "#zip(pixel_places[0], pixel_places[1])\n",
    "#tmp = Image.new('L', (1000,1000))\n",
    "#for i in zip(pixel_places[0], pixel_places[1]):\n",
    "#    tmp = tmp.putpixel(i, 255)\n",
    "#tmp\n",
    "\n",
    "tmp = Image.new('L', (1000,1000))\n",
    "map(lambda xy: tmp.putpixel(xy, 255), zip(pixel_places[0], pixel_places[1]))\n",
    "tmp\n"
   ]
  },
  {
   "cell_type": "code",
   "execution_count": 193,
   "metadata": {
    "collapsed": false
   },
   "outputs": [],
   "source": [
    "Image.new('L', (1000,1000)).putpixel((100,100),255)"
   ]
  },
  {
   "cell_type": "code",
   "execution_count": 87,
   "metadata": {
    "collapsed": true
   },
   "outputs": [],
   "source": [
    "import numpy as np"
   ]
  },
  {
   "cell_type": "code",
   "execution_count": 100,
   "metadata": {
    "collapsed": false
   },
   "outputs": [],
   "source": [
    "z = np.matrix(list(e.getdata()))\n",
    "z.resize(708, 708)"
   ]
  },
  {
   "cell_type": "code",
   "execution_count": 96,
   "metadata": {
    "collapsed": false
   },
   "outputs": [
    {
     "data": {
      "text/plain": [
       "matrix([[1, 2, 3],\n",
       "        [4, 5, 6]])"
      ]
     },
     "execution_count": 96,
     "metadata": {},
     "output_type": "execute_result"
    }
   ],
   "source": [
    "z = np.matrix([1,2,3,4,5,6])\n",
    "z.resize(2, 3)\n",
    "z"
   ]
  },
  {
   "cell_type": "code",
   "execution_count": 97,
   "metadata": {
    "collapsed": false
   },
   "outputs": [
    {
     "data": {
      "text/plain": [
       "(708, 708)"
      ]
     },
     "execution_count": 97,
     "metadata": {},
     "output_type": "execute_result"
    }
   ],
   "source": [
    "e.size"
   ]
  },
  {
   "cell_type": "code",
   "execution_count": 110,
   "metadata": {
    "collapsed": false
   },
   "outputs": [],
   "source": [
    "len(z)\n",
    "z.resize(708*708)\n",
    "len(z)\n",
    "z.resize(708, 708)"
   ]
  },
  {
   "cell_type": "code",
   "execution_count": 111,
   "metadata": {
    "collapsed": false,
    "scrolled": true
   },
   "outputs": [],
   "source": [
    "g = Image.fromarray(z, 'L')"
   ]
  },
  {
   "cell_type": "code",
   "execution_count": 112,
   "metadata": {
    "collapsed": false
   },
   "outputs": [
    {
     "data": {
      "image/png": "[encoded data removed]",
      "text/plain": [
       "<PIL.Image.Image image mode=L size=708x708 at 0x118DC86D0>"
      ]
     },
     "execution_count": 112,
     "metadata": {},
     "output_type": "execute_result"
    }
   ],
   "source": [
    "g"
   ]
  },
  {
   "cell_type": "code",
   "execution_count": null,
   "metadata": {
    "collapsed": true
   },
   "outputs": [],
   "source": []
  }
 ],
 "metadata": {
  "kernelspec": {
   "display_name": "Python 2",
   "language": "python",
   "name": "python2"
  },
  "language_info": {
   "codemirror_mode": {
    "name": "ipython",
    "version": 2
   },
   "file_extension": ".py",
   "mimetype": "text/x-python",
   "name": "python",
   "nbconvert_exporter": "python",
   "pygments_lexer": "ipython2",
   "version": "2.7.10"
  }
 },
 "nbformat": 4,
 "nbformat_minor": 0
}
